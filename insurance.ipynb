{
 "cells": [
  {
   "cell_type": "code",
   "execution_count": 126,
   "metadata": {},
   "outputs": [],
   "source": [
    "import pandas as pd\n",
    "from sklearn.preprocessing import LabelEncoder, OneHotEncoder\n",
    "\n"
   ]
  },
  {
   "cell_type": "code",
   "execution_count": 127,
   "metadata": {},
   "outputs": [
    {
     "data": {
      "text/html": [
       "<div>\n",
       "<style scoped>\n",
       "    .dataframe tbody tr th:only-of-type {\n",
       "        vertical-align: middle;\n",
       "    }\n",
       "\n",
       "    .dataframe tbody tr th {\n",
       "        vertical-align: top;\n",
       "    }\n",
       "\n",
       "    .dataframe thead th {\n",
       "        text-align: right;\n",
       "    }\n",
       "</style>\n",
       "<table border=\"1\" class=\"dataframe\">\n",
       "  <thead>\n",
       "    <tr style=\"text-align: right;\">\n",
       "      <th></th>\n",
       "      <th>sex</th>\n",
       "      <th>bmi</th>\n",
       "      <th>children</th>\n",
       "      <th>smoker</th>\n",
       "      <th>region</th>\n",
       "      <th>charges</th>\n",
       "    </tr>\n",
       "    <tr>\n",
       "      <th>age</th>\n",
       "      <th></th>\n",
       "      <th></th>\n",
       "      <th></th>\n",
       "      <th></th>\n",
       "      <th></th>\n",
       "      <th></th>\n",
       "    </tr>\n",
       "  </thead>\n",
       "  <tbody>\n",
       "    <tr>\n",
       "      <th>19</th>\n",
       "      <td>female</td>\n",
       "      <td>27.900</td>\n",
       "      <td>0</td>\n",
       "      <td>yes</td>\n",
       "      <td>southwest</td>\n",
       "      <td>16884.92400</td>\n",
       "    </tr>\n",
       "    <tr>\n",
       "      <th>18</th>\n",
       "      <td>male</td>\n",
       "      <td>33.770</td>\n",
       "      <td>1</td>\n",
       "      <td>no</td>\n",
       "      <td>southeast</td>\n",
       "      <td>1725.55230</td>\n",
       "    </tr>\n",
       "    <tr>\n",
       "      <th>28</th>\n",
       "      <td>male</td>\n",
       "      <td>33.000</td>\n",
       "      <td>3</td>\n",
       "      <td>no</td>\n",
       "      <td>southeast</td>\n",
       "      <td>4449.46200</td>\n",
       "    </tr>\n",
       "    <tr>\n",
       "      <th>33</th>\n",
       "      <td>male</td>\n",
       "      <td>22.705</td>\n",
       "      <td>0</td>\n",
       "      <td>no</td>\n",
       "      <td>northwest</td>\n",
       "      <td>21984.47061</td>\n",
       "    </tr>\n",
       "    <tr>\n",
       "      <th>32</th>\n",
       "      <td>male</td>\n",
       "      <td>28.880</td>\n",
       "      <td>0</td>\n",
       "      <td>no</td>\n",
       "      <td>northwest</td>\n",
       "      <td>3866.85520</td>\n",
       "    </tr>\n",
       "    <tr>\n",
       "      <th>...</th>\n",
       "      <td>...</td>\n",
       "      <td>...</td>\n",
       "      <td>...</td>\n",
       "      <td>...</td>\n",
       "      <td>...</td>\n",
       "      <td>...</td>\n",
       "    </tr>\n",
       "    <tr>\n",
       "      <th>50</th>\n",
       "      <td>male</td>\n",
       "      <td>30.970</td>\n",
       "      <td>3</td>\n",
       "      <td>no</td>\n",
       "      <td>northwest</td>\n",
       "      <td>10600.54830</td>\n",
       "    </tr>\n",
       "    <tr>\n",
       "      <th>18</th>\n",
       "      <td>female</td>\n",
       "      <td>31.920</td>\n",
       "      <td>0</td>\n",
       "      <td>no</td>\n",
       "      <td>northeast</td>\n",
       "      <td>2205.98080</td>\n",
       "    </tr>\n",
       "    <tr>\n",
       "      <th>18</th>\n",
       "      <td>female</td>\n",
       "      <td>36.850</td>\n",
       "      <td>0</td>\n",
       "      <td>no</td>\n",
       "      <td>southeast</td>\n",
       "      <td>1629.83350</td>\n",
       "    </tr>\n",
       "    <tr>\n",
       "      <th>21</th>\n",
       "      <td>female</td>\n",
       "      <td>25.800</td>\n",
       "      <td>0</td>\n",
       "      <td>no</td>\n",
       "      <td>southwest</td>\n",
       "      <td>2007.94500</td>\n",
       "    </tr>\n",
       "    <tr>\n",
       "      <th>61</th>\n",
       "      <td>female</td>\n",
       "      <td>29.070</td>\n",
       "      <td>0</td>\n",
       "      <td>yes</td>\n",
       "      <td>northwest</td>\n",
       "      <td>29141.36030</td>\n",
       "    </tr>\n",
       "  </tbody>\n",
       "</table>\n",
       "<p>1338 rows × 6 columns</p>\n",
       "</div>"
      ],
      "text/plain": [
       "        sex     bmi  children smoker     region      charges\n",
       "age                                                         \n",
       "19   female  27.900         0    yes  southwest  16884.92400\n",
       "18     male  33.770         1     no  southeast   1725.55230\n",
       "28     male  33.000         3     no  southeast   4449.46200\n",
       "33     male  22.705         0     no  northwest  21984.47061\n",
       "32     male  28.880         0     no  northwest   3866.85520\n",
       "..      ...     ...       ...    ...        ...          ...\n",
       "50     male  30.970         3     no  northwest  10600.54830\n",
       "18   female  31.920         0     no  northeast   2205.98080\n",
       "18   female  36.850         0     no  southeast   1629.83350\n",
       "21   female  25.800         0     no  southwest   2007.94500\n",
       "61   female  29.070         0    yes  northwest  29141.36030\n",
       "\n",
       "[1338 rows x 6 columns]"
      ]
     },
     "execution_count": 127,
     "metadata": {},
     "output_type": "execute_result"
    }
   ],
   "source": [
    "data =pd.read_csv('insurance.csv', index_col=0)\n",
    "data"
   ]
  },
  {
   "cell_type": "code",
   "execution_count": 157,
   "metadata": {},
   "outputs": [
    {
     "data": {
      "text/plain": [
       "sex         0\n",
       "bmi         0\n",
       "children    0\n",
       "smoker      0\n",
       "region      0\n",
       "charges     0\n",
       "dtype: int64"
      ]
     },
     "execution_count": 157,
     "metadata": {},
     "output_type": "execute_result"
    }
   ],
   "source": [
    "data.isnull().sum()"
   ]
  },
  {
   "cell_type": "code",
   "execution_count": 128,
   "metadata": {},
   "outputs": [
    {
     "name": "stdout",
     "output_type": "stream",
     "text": [
      "     sex     bmi  children smoker     region      charges\n",
      "age                                                      \n",
      "19     0  27.900         0    yes  southwest  16884.92400\n",
      "18     1  33.770         1     no  southeast   1725.55230\n",
      "28     1  33.000         3     no  southeast   4449.46200\n",
      "33     1  22.705         0     no  northwest  21984.47061\n",
      "32     1  28.880         0     no  northwest   3866.85520\n",
      "..   ...     ...       ...    ...        ...          ...\n",
      "50     1  30.970         3     no  northwest  10600.54830\n",
      "18     0  31.920         0     no  northeast   2205.98080\n",
      "18     0  36.850         0     no  southeast   1629.83350\n",
      "21     0  25.800         0     no  southwest   2007.94500\n",
      "61     0  29.070         0    yes  northwest  29141.36030\n",
      "\n",
      "[1338 rows x 6 columns]\n",
      "     sex     bmi  children  smoker     region      charges\n",
      "age                                                       \n",
      "19     0  27.900         0       1  southwest  16884.92400\n",
      "18     1  33.770         1       0  southeast   1725.55230\n",
      "28     1  33.000         3       0  southeast   4449.46200\n",
      "33     1  22.705         0       0  northwest  21984.47061\n",
      "32     1  28.880         0       0  northwest   3866.85520\n",
      "..   ...     ...       ...     ...        ...          ...\n",
      "50     1  30.970         3       0  northwest  10600.54830\n",
      "18     0  31.920         0       0  northeast   2205.98080\n",
      "18     0  36.850         0       0  southeast   1629.83350\n",
      "21     0  25.800         0       0  southwest   2007.94500\n",
      "61     0  29.070         0       1  northwest  29141.36030\n",
      "\n",
      "[1338 rows x 6 columns]\n",
      "     sex     bmi  children  smoker  region      charges\n",
      "age                                                    \n",
      "19     0  27.900         0       1       3  16884.92400\n",
      "18     1  33.770         1       0       2   1725.55230\n",
      "28     1  33.000         3       0       2   4449.46200\n",
      "33     1  22.705         0       0       1  21984.47061\n",
      "32     1  28.880         0       0       1   3866.85520\n",
      "..   ...     ...       ...     ...     ...          ...\n",
      "50     1  30.970         3       0       1  10600.54830\n",
      "18     0  31.920         0       0       0   2205.98080\n",
      "18     0  36.850         0       0       2   1629.83350\n",
      "21     0  25.800         0       0       3   2007.94500\n",
      "61     0  29.070         0       1       1  29141.36030\n",
      "\n",
      "[1338 rows x 6 columns]\n"
     ]
    }
   ],
   "source": [
    "\n",
    "import numpy as np\n",
    "le = LabelEncoder()\n",
    "data['sex'] = le.fit_transform(data['sex'])\n",
    "print(data)\n",
    "\n",
    "le=LabelEncoder()\n",
    "data['smoker']=le.fit_transform(data['smoker'])\n",
    "print(data)\n",
    "\n",
    "le=LabelEncoder()\n",
    "data['region']=le.fit_transform(data['region'])\n",
    "print(data)\n"
   ]
  },
  {
   "cell_type": "code",
   "execution_count": 129,
   "metadata": {},
   "outputs": [],
   "source": [
    "#X = data.drop('charges', axis=1)\n",
    "X=data['smoker']\n",
    "y = data['charges']"
   ]
  },
  {
   "cell_type": "code",
   "execution_count": 130,
   "metadata": {},
   "outputs": [],
   "source": [
    "from sklearn.linear_model import LinearRegression\n",
    "from sklearn.model_selection import train_test_split\n",
    "from sklearn.preprocessing import LabelEncoder\n",
    "\n",
    "#split data\n",
    "X_train, X_test, y_train, y_test = train_test_split(X, y, test_size=0.2,\n",
    "random_state=123)\n",
    "\n"
   ]
  },
  {
   "cell_type": "code",
   "execution_count": 131,
   "metadata": {},
   "outputs": [],
   "source": [
    "#build model\n",
    "from sklearn.neighbors import KNeighborsRegressor\n",
    "model=KNeighborsRegressor()"
   ]
  },
  {
   "cell_type": "code",
   "execution_count": 132,
   "metadata": {},
   "outputs": [
    {
     "data": {
      "text/html": [
       "<style>#sk-container-id-7 {color: black;}#sk-container-id-7 pre{padding: 0;}#sk-container-id-7 div.sk-toggleable {background-color: white;}#sk-container-id-7 label.sk-toggleable__label {cursor: pointer;display: block;width: 100%;margin-bottom: 0;padding: 0.3em;box-sizing: border-box;text-align: center;}#sk-container-id-7 label.sk-toggleable__label-arrow:before {content: \"▸\";float: left;margin-right: 0.25em;color: #696969;}#sk-container-id-7 label.sk-toggleable__label-arrow:hover:before {color: black;}#sk-container-id-7 div.sk-estimator:hover label.sk-toggleable__label-arrow:before {color: black;}#sk-container-id-7 div.sk-toggleable__content {max-height: 0;max-width: 0;overflow: hidden;text-align: left;background-color: #f0f8ff;}#sk-container-id-7 div.sk-toggleable__content pre {margin: 0.2em;color: black;border-radius: 0.25em;background-color: #f0f8ff;}#sk-container-id-7 input.sk-toggleable__control:checked~div.sk-toggleable__content {max-height: 200px;max-width: 100%;overflow: auto;}#sk-container-id-7 input.sk-toggleable__control:checked~label.sk-toggleable__label-arrow:before {content: \"▾\";}#sk-container-id-7 div.sk-estimator input.sk-toggleable__control:checked~label.sk-toggleable__label {background-color: #d4ebff;}#sk-container-id-7 div.sk-label input.sk-toggleable__control:checked~label.sk-toggleable__label {background-color: #d4ebff;}#sk-container-id-7 input.sk-hidden--visually {border: 0;clip: rect(1px 1px 1px 1px);clip: rect(1px, 1px, 1px, 1px);height: 1px;margin: -1px;overflow: hidden;padding: 0;position: absolute;width: 1px;}#sk-container-id-7 div.sk-estimator {font-family: monospace;background-color: #f0f8ff;border: 1px dotted black;border-radius: 0.25em;box-sizing: border-box;margin-bottom: 0.5em;}#sk-container-id-7 div.sk-estimator:hover {background-color: #d4ebff;}#sk-container-id-7 div.sk-parallel-item::after {content: \"\";width: 100%;border-bottom: 1px solid gray;flex-grow: 1;}#sk-container-id-7 div.sk-label:hover label.sk-toggleable__label {background-color: #d4ebff;}#sk-container-id-7 div.sk-serial::before {content: \"\";position: absolute;border-left: 1px solid gray;box-sizing: border-box;top: 0;bottom: 0;left: 50%;z-index: 0;}#sk-container-id-7 div.sk-serial {display: flex;flex-direction: column;align-items: center;background-color: white;padding-right: 0.2em;padding-left: 0.2em;position: relative;}#sk-container-id-7 div.sk-item {position: relative;z-index: 1;}#sk-container-id-7 div.sk-parallel {display: flex;align-items: stretch;justify-content: center;background-color: white;position: relative;}#sk-container-id-7 div.sk-item::before, #sk-container-id-7 div.sk-parallel-item::before {content: \"\";position: absolute;border-left: 1px solid gray;box-sizing: border-box;top: 0;bottom: 0;left: 50%;z-index: -1;}#sk-container-id-7 div.sk-parallel-item {display: flex;flex-direction: column;z-index: 1;position: relative;background-color: white;}#sk-container-id-7 div.sk-parallel-item:first-child::after {align-self: flex-end;width: 50%;}#sk-container-id-7 div.sk-parallel-item:last-child::after {align-self: flex-start;width: 50%;}#sk-container-id-7 div.sk-parallel-item:only-child::after {width: 0;}#sk-container-id-7 div.sk-dashed-wrapped {border: 1px dashed gray;margin: 0 0.4em 0.5em 0.4em;box-sizing: border-box;padding-bottom: 0.4em;background-color: white;}#sk-container-id-7 div.sk-label label {font-family: monospace;font-weight: bold;display: inline-block;line-height: 1.2em;}#sk-container-id-7 div.sk-label-container {text-align: center;}#sk-container-id-7 div.sk-container {/* jupyter's `normalize.less` sets `[hidden] { display: none; }` but bootstrap.min.css set `[hidden] { display: none !important; }` so we also need the `!important` here to be able to override the default hidden behavior on the sphinx rendered scikit-learn.org. See: https://github.com/scikit-learn/scikit-learn/issues/21755 */display: inline-block !important;position: relative;}#sk-container-id-7 div.sk-text-repr-fallback {display: none;}</style><div id=\"sk-container-id-7\" class=\"sk-top-container\"><div class=\"sk-text-repr-fallback\"><pre>KNeighborsRegressor()</pre><b>In a Jupyter environment, please rerun this cell to show the HTML representation or trust the notebook. <br />On GitHub, the HTML representation is unable to render, please try loading this page with nbviewer.org.</b></div><div class=\"sk-container\" hidden><div class=\"sk-item\"><div class=\"sk-estimator sk-toggleable\"><input class=\"sk-toggleable__control sk-hidden--visually\" id=\"sk-estimator-id-7\" type=\"checkbox\" checked><label for=\"sk-estimator-id-7\" class=\"sk-toggleable__label sk-toggleable__label-arrow\">KNeighborsRegressor</label><div class=\"sk-toggleable__content\"><pre>KNeighborsRegressor()</pre></div></div></div></div></div>"
      ],
      "text/plain": [
       "KNeighborsRegressor()"
      ]
     },
     "execution_count": 132,
     "metadata": {},
     "output_type": "execute_result"
    }
   ],
   "source": [
    "#training model\n",
    "X_train = np.reshape(X_train, (-1, 1))\n",
    "model.fit(X_train, y_train)"
   ]
  },
  {
   "cell_type": "code",
   "execution_count": 133,
   "metadata": {},
   "outputs": [],
   "source": [
    "# prediction result\n",
    "#y_pred = model.predict(X_test)\n",
    "#y_pred\n",
    "import numpy as np\n",
    "\n",
    "# Reshape X_test to 2D array\n",
    "X_test = np.reshape(X_test, (X_test.shape[0], -1))\n",
    "\n",
    "# Perform prediction\n",
    "y_pred = model.predict(X_test)\n",
    "\n"
   ]
  },
  {
   "cell_type": "code",
   "execution_count": 134,
   "metadata": {},
   "outputs": [
    {
     "name": "stdout",
     "output_type": "stream",
     "text": [
      "MAPE: 0.546455622894961\n",
      "RMSE: 8277.886999862576\n",
      "R-squared: 0.5518285948789599\n"
     ]
    }
   ],
   "source": [
    "from sklearn.metrics import mean_absolute_percentage_error, mean_squared_error,r2_score\n",
    "\n",
    "# Model evaluation\n",
    "mape = mean_absolute_percentage_error(y_test, y_pred)\n",
    "print('MAPE: {}'.format(str(mape)))\n",
    "rmse = np.sqrt(mean_squared_error(y_test, y_pred))\n",
    "print('RMSE: {}'.format(str(rmse)))\n",
    "r2 = r2_score(y_test, y_pred)\n",
    "print('R-squared: {}'.format(str(r2)))\n"
   ]
  },
  {
   "cell_type": "code",
   "execution_count": 143,
   "metadata": {},
   "outputs": [],
   "source": [
    "# Model build 2\n",
    "from sklearn.linear_model import LinearRegression\n",
    "model = LinearRegression()"
   ]
  },
  {
   "cell_type": "code",
   "execution_count": 144,
   "metadata": {},
   "outputs": [
    {
     "data": {
      "text/html": [
       "<style>#sk-container-id-10 {color: black;}#sk-container-id-10 pre{padding: 0;}#sk-container-id-10 div.sk-toggleable {background-color: white;}#sk-container-id-10 label.sk-toggleable__label {cursor: pointer;display: block;width: 100%;margin-bottom: 0;padding: 0.3em;box-sizing: border-box;text-align: center;}#sk-container-id-10 label.sk-toggleable__label-arrow:before {content: \"▸\";float: left;margin-right: 0.25em;color: #696969;}#sk-container-id-10 label.sk-toggleable__label-arrow:hover:before {color: black;}#sk-container-id-10 div.sk-estimator:hover label.sk-toggleable__label-arrow:before {color: black;}#sk-container-id-10 div.sk-toggleable__content {max-height: 0;max-width: 0;overflow: hidden;text-align: left;background-color: #f0f8ff;}#sk-container-id-10 div.sk-toggleable__content pre {margin: 0.2em;color: black;border-radius: 0.25em;background-color: #f0f8ff;}#sk-container-id-10 input.sk-toggleable__control:checked~div.sk-toggleable__content {max-height: 200px;max-width: 100%;overflow: auto;}#sk-container-id-10 input.sk-toggleable__control:checked~label.sk-toggleable__label-arrow:before {content: \"▾\";}#sk-container-id-10 div.sk-estimator input.sk-toggleable__control:checked~label.sk-toggleable__label {background-color: #d4ebff;}#sk-container-id-10 div.sk-label input.sk-toggleable__control:checked~label.sk-toggleable__label {background-color: #d4ebff;}#sk-container-id-10 input.sk-hidden--visually {border: 0;clip: rect(1px 1px 1px 1px);clip: rect(1px, 1px, 1px, 1px);height: 1px;margin: -1px;overflow: hidden;padding: 0;position: absolute;width: 1px;}#sk-container-id-10 div.sk-estimator {font-family: monospace;background-color: #f0f8ff;border: 1px dotted black;border-radius: 0.25em;box-sizing: border-box;margin-bottom: 0.5em;}#sk-container-id-10 div.sk-estimator:hover {background-color: #d4ebff;}#sk-container-id-10 div.sk-parallel-item::after {content: \"\";width: 100%;border-bottom: 1px solid gray;flex-grow: 1;}#sk-container-id-10 div.sk-label:hover label.sk-toggleable__label {background-color: #d4ebff;}#sk-container-id-10 div.sk-serial::before {content: \"\";position: absolute;border-left: 1px solid gray;box-sizing: border-box;top: 0;bottom: 0;left: 50%;z-index: 0;}#sk-container-id-10 div.sk-serial {display: flex;flex-direction: column;align-items: center;background-color: white;padding-right: 0.2em;padding-left: 0.2em;position: relative;}#sk-container-id-10 div.sk-item {position: relative;z-index: 1;}#sk-container-id-10 div.sk-parallel {display: flex;align-items: stretch;justify-content: center;background-color: white;position: relative;}#sk-container-id-10 div.sk-item::before, #sk-container-id-10 div.sk-parallel-item::before {content: \"\";position: absolute;border-left: 1px solid gray;box-sizing: border-box;top: 0;bottom: 0;left: 50%;z-index: -1;}#sk-container-id-10 div.sk-parallel-item {display: flex;flex-direction: column;z-index: 1;position: relative;background-color: white;}#sk-container-id-10 div.sk-parallel-item:first-child::after {align-self: flex-end;width: 50%;}#sk-container-id-10 div.sk-parallel-item:last-child::after {align-self: flex-start;width: 50%;}#sk-container-id-10 div.sk-parallel-item:only-child::after {width: 0;}#sk-container-id-10 div.sk-dashed-wrapped {border: 1px dashed gray;margin: 0 0.4em 0.5em 0.4em;box-sizing: border-box;padding-bottom: 0.4em;background-color: white;}#sk-container-id-10 div.sk-label label {font-family: monospace;font-weight: bold;display: inline-block;line-height: 1.2em;}#sk-container-id-10 div.sk-label-container {text-align: center;}#sk-container-id-10 div.sk-container {/* jupyter's `normalize.less` sets `[hidden] { display: none; }` but bootstrap.min.css set `[hidden] { display: none !important; }` so we also need the `!important` here to be able to override the default hidden behavior on the sphinx rendered scikit-learn.org. See: https://github.com/scikit-learn/scikit-learn/issues/21755 */display: inline-block !important;position: relative;}#sk-container-id-10 div.sk-text-repr-fallback {display: none;}</style><div id=\"sk-container-id-10\" class=\"sk-top-container\"><div class=\"sk-text-repr-fallback\"><pre>LinearRegression()</pre><b>In a Jupyter environment, please rerun this cell to show the HTML representation or trust the notebook. <br />On GitHub, the HTML representation is unable to render, please try loading this page with nbviewer.org.</b></div><div class=\"sk-container\" hidden><div class=\"sk-item\"><div class=\"sk-estimator sk-toggleable\"><input class=\"sk-toggleable__control sk-hidden--visually\" id=\"sk-estimator-id-10\" type=\"checkbox\" checked><label for=\"sk-estimator-id-10\" class=\"sk-toggleable__label sk-toggleable__label-arrow\">LinearRegression</label><div class=\"sk-toggleable__content\"><pre>LinearRegression()</pre></div></div></div></div></div>"
      ],
      "text/plain": [
       "LinearRegression()"
      ]
     },
     "execution_count": 144,
     "metadata": {},
     "output_type": "execute_result"
    }
   ],
   "source": [
    "model.fit(X_train, y_train)\n"
   ]
  },
  {
   "cell_type": "code",
   "execution_count": 137,
   "metadata": {},
   "outputs": [
    {
     "data": {
      "text/plain": [
       "array([ 8505.41551562,  8505.41551562, 31924.62635285,  8505.41551562,\n",
       "        8505.41551562,  8505.41551562,  8505.41551562,  8505.41551562,\n",
       "        8505.41551562,  8505.41551562,  8505.41551562,  8505.41551562,\n",
       "        8505.41551562, 31924.62635285,  8505.41551562, 31924.62635285,\n",
       "        8505.41551562,  8505.41551562, 31924.62635285, 31924.62635285,\n",
       "       31924.62635285, 31924.62635285,  8505.41551562,  8505.41551562,\n",
       "        8505.41551562,  8505.41551562,  8505.41551562,  8505.41551562,\n",
       "        8505.41551562,  8505.41551562,  8505.41551562,  8505.41551562,\n",
       "        8505.41551562,  8505.41551562,  8505.41551562,  8505.41551562,\n",
       "        8505.41551562,  8505.41551562,  8505.41551562,  8505.41551562,\n",
       "        8505.41551562,  8505.41551562,  8505.41551562, 31924.62635285,\n",
       "        8505.41551562,  8505.41551562,  8505.41551562,  8505.41551562,\n",
       "        8505.41551562,  8505.41551562,  8505.41551562,  8505.41551562,\n",
       "       31924.62635285,  8505.41551562,  8505.41551562,  8505.41551562,\n",
       "       31924.62635285, 31924.62635285, 31924.62635285,  8505.41551562,\n",
       "        8505.41551562,  8505.41551562, 31924.62635285, 31924.62635285,\n",
       "        8505.41551562,  8505.41551562,  8505.41551562,  8505.41551562,\n",
       "        8505.41551562,  8505.41551562,  8505.41551562,  8505.41551562,\n",
       "        8505.41551562,  8505.41551562,  8505.41551562, 31924.62635285,\n",
       "        8505.41551562,  8505.41551562,  8505.41551562, 31924.62635285,\n",
       "        8505.41551562, 31924.62635285, 31924.62635285,  8505.41551562,\n",
       "        8505.41551562,  8505.41551562, 31924.62635285,  8505.41551562,\n",
       "        8505.41551562, 31924.62635285,  8505.41551562,  8505.41551562,\n",
       "        8505.41551562,  8505.41551562,  8505.41551562,  8505.41551562,\n",
       "        8505.41551562,  8505.41551562,  8505.41551562,  8505.41551562,\n",
       "        8505.41551562,  8505.41551562,  8505.41551562,  8505.41551562,\n",
       "        8505.41551562,  8505.41551562, 31924.62635285,  8505.41551562,\n",
       "        8505.41551562,  8505.41551562,  8505.41551562, 31924.62635285,\n",
       "       31924.62635285,  8505.41551562, 31924.62635285,  8505.41551562,\n",
       "        8505.41551562,  8505.41551562,  8505.41551562,  8505.41551562,\n",
       "       31924.62635285, 31924.62635285,  8505.41551562,  8505.41551562,\n",
       "        8505.41551562,  8505.41551562, 31924.62635285,  8505.41551562,\n",
       "       31924.62635285, 31924.62635285,  8505.41551562,  8505.41551562,\n",
       "        8505.41551562,  8505.41551562,  8505.41551562,  8505.41551562,\n",
       "        8505.41551562,  8505.41551562,  8505.41551562,  8505.41551562,\n",
       "        8505.41551562, 31924.62635285, 31924.62635285,  8505.41551562,\n",
       "       31924.62635285,  8505.41551562, 31924.62635285,  8505.41551562,\n",
       "        8505.41551562,  8505.41551562,  8505.41551562,  8505.41551562,\n",
       "       31924.62635285,  8505.41551562,  8505.41551562,  8505.41551562,\n",
       "       31924.62635285,  8505.41551562,  8505.41551562,  8505.41551562,\n",
       "        8505.41551562,  8505.41551562,  8505.41551562, 31924.62635285,\n",
       "        8505.41551562,  8505.41551562,  8505.41551562, 31924.62635285,\n",
       "       31924.62635285,  8505.41551562,  8505.41551562, 31924.62635285,\n",
       "        8505.41551562,  8505.41551562,  8505.41551562,  8505.41551562,\n",
       "        8505.41551562,  8505.41551562,  8505.41551562,  8505.41551562,\n",
       "        8505.41551562,  8505.41551562,  8505.41551562,  8505.41551562,\n",
       "        8505.41551562,  8505.41551562,  8505.41551562,  8505.41551562,\n",
       "        8505.41551562, 31924.62635285, 31924.62635285,  8505.41551562,\n",
       "       31924.62635285,  8505.41551562,  8505.41551562,  8505.41551562,\n",
       "       31924.62635285,  8505.41551562, 31924.62635285,  8505.41551562,\n",
       "       31924.62635285,  8505.41551562,  8505.41551562,  8505.41551562,\n",
       "        8505.41551562, 31924.62635285, 31924.62635285, 31924.62635285,\n",
       "        8505.41551562,  8505.41551562,  8505.41551562,  8505.41551562,\n",
       "        8505.41551562,  8505.41551562,  8505.41551562, 31924.62635285,\n",
       "        8505.41551562,  8505.41551562, 31924.62635285,  8505.41551562,\n",
       "       31924.62635285,  8505.41551562,  8505.41551562,  8505.41551562,\n",
       "       31924.62635285,  8505.41551562,  8505.41551562,  8505.41551562,\n",
       "        8505.41551562,  8505.41551562,  8505.41551562,  8505.41551562,\n",
       "        8505.41551562, 31924.62635285,  8505.41551562,  8505.41551562,\n",
       "        8505.41551562,  8505.41551562, 31924.62635285, 31924.62635285,\n",
       "        8505.41551562,  8505.41551562,  8505.41551562,  8505.41551562,\n",
       "        8505.41551562,  8505.41551562,  8505.41551562,  8505.41551562,\n",
       "        8505.41551562, 31924.62635285,  8505.41551562,  8505.41551562,\n",
       "        8505.41551562,  8505.41551562,  8505.41551562,  8505.41551562,\n",
       "       31924.62635285,  8505.41551562,  8505.41551562,  8505.41551562,\n",
       "       31924.62635285,  8505.41551562, 31924.62635285,  8505.41551562,\n",
       "        8505.41551562,  8505.41551562,  8505.41551562, 31924.62635285])"
      ]
     },
     "execution_count": 137,
     "metadata": {},
     "output_type": "execute_result"
    }
   ],
   "source": [
    "y_pred = model.predict(X_test)\n",
    "y_pred"
   ]
  },
  {
   "cell_type": "code",
   "execution_count": 145,
   "metadata": {},
   "outputs": [
    {
     "name": "stdout",
     "output_type": "stream",
     "text": [
      "MAPE: 0.9056454423532044\n",
      "RMSE: 12919.522734107175\n",
      "R-squared: -0.09168689607001346\n"
     ]
    }
   ],
   "source": [
    "# Model evaluation\n",
    "mape = mean_absolute_percentage_error(y_test, y_pred)\n",
    "print('MAPE: {}'.format(str(mape)))\n",
    "rmse = np.sqrt(mean_squared_error(y_test, y_pred))\n",
    "print('RMSE: {}'.format(str(rmse)))\n",
    "r2 = r2_score(y_test, y_pred)\n",
    "print('R-squared: {}'.format(str(r2)))"
   ]
  },
  {
   "cell_type": "code",
   "execution_count": 146,
   "metadata": {},
   "outputs": [],
   "source": [
    "# build model 3\n",
    "from sklearn.svm import SVR\n",
    "model = SVR()"
   ]
  },
  {
   "cell_type": "code",
   "execution_count": 140,
   "metadata": {},
   "outputs": [
    {
     "data": {
      "text/html": [
       "<style>#sk-container-id-9 {color: black;}#sk-container-id-9 pre{padding: 0;}#sk-container-id-9 div.sk-toggleable {background-color: white;}#sk-container-id-9 label.sk-toggleable__label {cursor: pointer;display: block;width: 100%;margin-bottom: 0;padding: 0.3em;box-sizing: border-box;text-align: center;}#sk-container-id-9 label.sk-toggleable__label-arrow:before {content: \"▸\";float: left;margin-right: 0.25em;color: #696969;}#sk-container-id-9 label.sk-toggleable__label-arrow:hover:before {color: black;}#sk-container-id-9 div.sk-estimator:hover label.sk-toggleable__label-arrow:before {color: black;}#sk-container-id-9 div.sk-toggleable__content {max-height: 0;max-width: 0;overflow: hidden;text-align: left;background-color: #f0f8ff;}#sk-container-id-9 div.sk-toggleable__content pre {margin: 0.2em;color: black;border-radius: 0.25em;background-color: #f0f8ff;}#sk-container-id-9 input.sk-toggleable__control:checked~div.sk-toggleable__content {max-height: 200px;max-width: 100%;overflow: auto;}#sk-container-id-9 input.sk-toggleable__control:checked~label.sk-toggleable__label-arrow:before {content: \"▾\";}#sk-container-id-9 div.sk-estimator input.sk-toggleable__control:checked~label.sk-toggleable__label {background-color: #d4ebff;}#sk-container-id-9 div.sk-label input.sk-toggleable__control:checked~label.sk-toggleable__label {background-color: #d4ebff;}#sk-container-id-9 input.sk-hidden--visually {border: 0;clip: rect(1px 1px 1px 1px);clip: rect(1px, 1px, 1px, 1px);height: 1px;margin: -1px;overflow: hidden;padding: 0;position: absolute;width: 1px;}#sk-container-id-9 div.sk-estimator {font-family: monospace;background-color: #f0f8ff;border: 1px dotted black;border-radius: 0.25em;box-sizing: border-box;margin-bottom: 0.5em;}#sk-container-id-9 div.sk-estimator:hover {background-color: #d4ebff;}#sk-container-id-9 div.sk-parallel-item::after {content: \"\";width: 100%;border-bottom: 1px solid gray;flex-grow: 1;}#sk-container-id-9 div.sk-label:hover label.sk-toggleable__label {background-color: #d4ebff;}#sk-container-id-9 div.sk-serial::before {content: \"\";position: absolute;border-left: 1px solid gray;box-sizing: border-box;top: 0;bottom: 0;left: 50%;z-index: 0;}#sk-container-id-9 div.sk-serial {display: flex;flex-direction: column;align-items: center;background-color: white;padding-right: 0.2em;padding-left: 0.2em;position: relative;}#sk-container-id-9 div.sk-item {position: relative;z-index: 1;}#sk-container-id-9 div.sk-parallel {display: flex;align-items: stretch;justify-content: center;background-color: white;position: relative;}#sk-container-id-9 div.sk-item::before, #sk-container-id-9 div.sk-parallel-item::before {content: \"\";position: absolute;border-left: 1px solid gray;box-sizing: border-box;top: 0;bottom: 0;left: 50%;z-index: -1;}#sk-container-id-9 div.sk-parallel-item {display: flex;flex-direction: column;z-index: 1;position: relative;background-color: white;}#sk-container-id-9 div.sk-parallel-item:first-child::after {align-self: flex-end;width: 50%;}#sk-container-id-9 div.sk-parallel-item:last-child::after {align-self: flex-start;width: 50%;}#sk-container-id-9 div.sk-parallel-item:only-child::after {width: 0;}#sk-container-id-9 div.sk-dashed-wrapped {border: 1px dashed gray;margin: 0 0.4em 0.5em 0.4em;box-sizing: border-box;padding-bottom: 0.4em;background-color: white;}#sk-container-id-9 div.sk-label label {font-family: monospace;font-weight: bold;display: inline-block;line-height: 1.2em;}#sk-container-id-9 div.sk-label-container {text-align: center;}#sk-container-id-9 div.sk-container {/* jupyter's `normalize.less` sets `[hidden] { display: none; }` but bootstrap.min.css set `[hidden] { display: none !important; }` so we also need the `!important` here to be able to override the default hidden behavior on the sphinx rendered scikit-learn.org. See: https://github.com/scikit-learn/scikit-learn/issues/21755 */display: inline-block !important;position: relative;}#sk-container-id-9 div.sk-text-repr-fallback {display: none;}</style><div id=\"sk-container-id-9\" class=\"sk-top-container\"><div class=\"sk-text-repr-fallback\"><pre>SVR()</pre><b>In a Jupyter environment, please rerun this cell to show the HTML representation or trust the notebook. <br />On GitHub, the HTML representation is unable to render, please try loading this page with nbviewer.org.</b></div><div class=\"sk-container\" hidden><div class=\"sk-item\"><div class=\"sk-estimator sk-toggleable\"><input class=\"sk-toggleable__control sk-hidden--visually\" id=\"sk-estimator-id-9\" type=\"checkbox\" checked><label for=\"sk-estimator-id-9\" class=\"sk-toggleable__label sk-toggleable__label-arrow\">SVR</label><div class=\"sk-toggleable__content\"><pre>SVR()</pre></div></div></div></div></div>"
      ],
      "text/plain": [
       "SVR()"
      ]
     },
     "execution_count": 140,
     "metadata": {},
     "output_type": "execute_result"
    }
   ],
   "source": [
    "# Training model\n",
    "model.fit(X_train, y_train)\n"
   ]
  },
  {
   "cell_type": "code",
   "execution_count": 141,
   "metadata": {},
   "outputs": [
    {
     "data": {
      "text/plain": [
       "array([9303.29772499, 9303.29772499, 9730.47149062, 9303.29772499,\n",
       "       9303.29772499, 9303.29772499, 9303.29772499, 9303.29772499,\n",
       "       9303.29772499, 9303.29772499, 9303.29772499, 9303.29772499,\n",
       "       9303.29772499, 9730.47149062, 9303.29772499, 9730.47149062,\n",
       "       9303.29772499, 9303.29772499, 9730.47149062, 9730.47149062,\n",
       "       9730.47149062, 9730.47149062, 9303.29772499, 9303.29772499,\n",
       "       9303.29772499, 9303.29772499, 9303.29772499, 9303.29772499,\n",
       "       9303.29772499, 9303.29772499, 9303.29772499, 9303.29772499,\n",
       "       9303.29772499, 9303.29772499, 9303.29772499, 9303.29772499,\n",
       "       9303.29772499, 9303.29772499, 9303.29772499, 9303.29772499,\n",
       "       9303.29772499, 9303.29772499, 9303.29772499, 9730.47149062,\n",
       "       9303.29772499, 9303.29772499, 9303.29772499, 9303.29772499,\n",
       "       9303.29772499, 9303.29772499, 9303.29772499, 9303.29772499,\n",
       "       9730.47149062, 9303.29772499, 9303.29772499, 9303.29772499,\n",
       "       9730.47149062, 9730.47149062, 9730.47149062, 9303.29772499,\n",
       "       9303.29772499, 9303.29772499, 9730.47149062, 9730.47149062,\n",
       "       9303.29772499, 9303.29772499, 9303.29772499, 9303.29772499,\n",
       "       9303.29772499, 9303.29772499, 9303.29772499, 9303.29772499,\n",
       "       9303.29772499, 9303.29772499, 9303.29772499, 9730.47149062,\n",
       "       9303.29772499, 9303.29772499, 9303.29772499, 9730.47149062,\n",
       "       9303.29772499, 9730.47149062, 9730.47149062, 9303.29772499,\n",
       "       9303.29772499, 9303.29772499, 9730.47149062, 9303.29772499,\n",
       "       9303.29772499, 9730.47149062, 9303.29772499, 9303.29772499,\n",
       "       9303.29772499, 9303.29772499, 9303.29772499, 9303.29772499,\n",
       "       9303.29772499, 9303.29772499, 9303.29772499, 9303.29772499,\n",
       "       9303.29772499, 9303.29772499, 9303.29772499, 9303.29772499,\n",
       "       9303.29772499, 9303.29772499, 9730.47149062, 9303.29772499,\n",
       "       9303.29772499, 9303.29772499, 9303.29772499, 9730.47149062,\n",
       "       9730.47149062, 9303.29772499, 9730.47149062, 9303.29772499,\n",
       "       9303.29772499, 9303.29772499, 9303.29772499, 9303.29772499,\n",
       "       9730.47149062, 9730.47149062, 9303.29772499, 9303.29772499,\n",
       "       9303.29772499, 9303.29772499, 9730.47149062, 9303.29772499,\n",
       "       9730.47149062, 9730.47149062, 9303.29772499, 9303.29772499,\n",
       "       9303.29772499, 9303.29772499, 9303.29772499, 9303.29772499,\n",
       "       9303.29772499, 9303.29772499, 9303.29772499, 9303.29772499,\n",
       "       9303.29772499, 9730.47149062, 9730.47149062, 9303.29772499,\n",
       "       9730.47149062, 9303.29772499, 9730.47149062, 9303.29772499,\n",
       "       9303.29772499, 9303.29772499, 9303.29772499, 9303.29772499,\n",
       "       9730.47149062, 9303.29772499, 9303.29772499, 9303.29772499,\n",
       "       9730.47149062, 9303.29772499, 9303.29772499, 9303.29772499,\n",
       "       9303.29772499, 9303.29772499, 9303.29772499, 9730.47149062,\n",
       "       9303.29772499, 9303.29772499, 9303.29772499, 9730.47149062,\n",
       "       9730.47149062, 9303.29772499, 9303.29772499, 9730.47149062,\n",
       "       9303.29772499, 9303.29772499, 9303.29772499, 9303.29772499,\n",
       "       9303.29772499, 9303.29772499, 9303.29772499, 9303.29772499,\n",
       "       9303.29772499, 9303.29772499, 9303.29772499, 9303.29772499,\n",
       "       9303.29772499, 9303.29772499, 9303.29772499, 9303.29772499,\n",
       "       9303.29772499, 9730.47149062, 9730.47149062, 9303.29772499,\n",
       "       9730.47149062, 9303.29772499, 9303.29772499, 9303.29772499,\n",
       "       9730.47149062, 9303.29772499, 9730.47149062, 9303.29772499,\n",
       "       9730.47149062, 9303.29772499, 9303.29772499, 9303.29772499,\n",
       "       9303.29772499, 9730.47149062, 9730.47149062, 9730.47149062,\n",
       "       9303.29772499, 9303.29772499, 9303.29772499, 9303.29772499,\n",
       "       9303.29772499, 9303.29772499, 9303.29772499, 9730.47149062,\n",
       "       9303.29772499, 9303.29772499, 9730.47149062, 9303.29772499,\n",
       "       9730.47149062, 9303.29772499, 9303.29772499, 9303.29772499,\n",
       "       9730.47149062, 9303.29772499, 9303.29772499, 9303.29772499,\n",
       "       9303.29772499, 9303.29772499, 9303.29772499, 9303.29772499,\n",
       "       9303.29772499, 9730.47149062, 9303.29772499, 9303.29772499,\n",
       "       9303.29772499, 9303.29772499, 9730.47149062, 9730.47149062,\n",
       "       9303.29772499, 9303.29772499, 9303.29772499, 9303.29772499,\n",
       "       9303.29772499, 9303.29772499, 9303.29772499, 9303.29772499,\n",
       "       9303.29772499, 9730.47149062, 9303.29772499, 9303.29772499,\n",
       "       9303.29772499, 9303.29772499, 9303.29772499, 9303.29772499,\n",
       "       9730.47149062, 9303.29772499, 9303.29772499, 9303.29772499,\n",
       "       9730.47149062, 9303.29772499, 9730.47149062, 9303.29772499,\n",
       "       9303.29772499, 9303.29772499, 9303.29772499, 9730.47149062])"
      ]
     },
     "execution_count": 141,
     "metadata": {},
     "output_type": "execute_result"
    }
   ],
   "source": [
    "# Prediction result\n",
    "y_pred = model.predict(X_test)\n",
    "y_pred"
   ]
  },
  {
   "cell_type": "code",
   "execution_count": 142,
   "metadata": {},
   "outputs": [
    {
     "name": "stdout",
     "output_type": "stream",
     "text": [
      "MAPE: 0.9056454423532044\n",
      "RMSE: 12919.522734107175\n",
      "R-squared: -0.09168689607001346\n"
     ]
    }
   ],
   "source": [
    "# Model evaluation\n",
    "mape = mean_absolute_percentage_error(y_test, y_pred)\n",
    "print('MAPE: {}'.format(str(mape)))\n",
    "rmse = np.sqrt(mean_squared_error(y_test, y_pred))\n",
    "print('RMSE: {}'.format(str(rmse)))\n",
    "r2 = r2_score(y_test, y_pred)\n",
    "print('R-squared: {}'.format(str(r2)))"
   ]
  },
  {
   "cell_type": "code",
   "execution_count": 149,
   "metadata": {},
   "outputs": [
    {
     "data": {
      "text/html": [
       "<style>#sk-container-id-12 {color: black;}#sk-container-id-12 pre{padding: 0;}#sk-container-id-12 div.sk-toggleable {background-color: white;}#sk-container-id-12 label.sk-toggleable__label {cursor: pointer;display: block;width: 100%;margin-bottom: 0;padding: 0.3em;box-sizing: border-box;text-align: center;}#sk-container-id-12 label.sk-toggleable__label-arrow:before {content: \"▸\";float: left;margin-right: 0.25em;color: #696969;}#sk-container-id-12 label.sk-toggleable__label-arrow:hover:before {color: black;}#sk-container-id-12 div.sk-estimator:hover label.sk-toggleable__label-arrow:before {color: black;}#sk-container-id-12 div.sk-toggleable__content {max-height: 0;max-width: 0;overflow: hidden;text-align: left;background-color: #f0f8ff;}#sk-container-id-12 div.sk-toggleable__content pre {margin: 0.2em;color: black;border-radius: 0.25em;background-color: #f0f8ff;}#sk-container-id-12 input.sk-toggleable__control:checked~div.sk-toggleable__content {max-height: 200px;max-width: 100%;overflow: auto;}#sk-container-id-12 input.sk-toggleable__control:checked~label.sk-toggleable__label-arrow:before {content: \"▾\";}#sk-container-id-12 div.sk-estimator input.sk-toggleable__control:checked~label.sk-toggleable__label {background-color: #d4ebff;}#sk-container-id-12 div.sk-label input.sk-toggleable__control:checked~label.sk-toggleable__label {background-color: #d4ebff;}#sk-container-id-12 input.sk-hidden--visually {border: 0;clip: rect(1px 1px 1px 1px);clip: rect(1px, 1px, 1px, 1px);height: 1px;margin: -1px;overflow: hidden;padding: 0;position: absolute;width: 1px;}#sk-container-id-12 div.sk-estimator {font-family: monospace;background-color: #f0f8ff;border: 1px dotted black;border-radius: 0.25em;box-sizing: border-box;margin-bottom: 0.5em;}#sk-container-id-12 div.sk-estimator:hover {background-color: #d4ebff;}#sk-container-id-12 div.sk-parallel-item::after {content: \"\";width: 100%;border-bottom: 1px solid gray;flex-grow: 1;}#sk-container-id-12 div.sk-label:hover label.sk-toggleable__label {background-color: #d4ebff;}#sk-container-id-12 div.sk-serial::before {content: \"\";position: absolute;border-left: 1px solid gray;box-sizing: border-box;top: 0;bottom: 0;left: 50%;z-index: 0;}#sk-container-id-12 div.sk-serial {display: flex;flex-direction: column;align-items: center;background-color: white;padding-right: 0.2em;padding-left: 0.2em;position: relative;}#sk-container-id-12 div.sk-item {position: relative;z-index: 1;}#sk-container-id-12 div.sk-parallel {display: flex;align-items: stretch;justify-content: center;background-color: white;position: relative;}#sk-container-id-12 div.sk-item::before, #sk-container-id-12 div.sk-parallel-item::before {content: \"\";position: absolute;border-left: 1px solid gray;box-sizing: border-box;top: 0;bottom: 0;left: 50%;z-index: -1;}#sk-container-id-12 div.sk-parallel-item {display: flex;flex-direction: column;z-index: 1;position: relative;background-color: white;}#sk-container-id-12 div.sk-parallel-item:first-child::after {align-self: flex-end;width: 50%;}#sk-container-id-12 div.sk-parallel-item:last-child::after {align-self: flex-start;width: 50%;}#sk-container-id-12 div.sk-parallel-item:only-child::after {width: 0;}#sk-container-id-12 div.sk-dashed-wrapped {border: 1px dashed gray;margin: 0 0.4em 0.5em 0.4em;box-sizing: border-box;padding-bottom: 0.4em;background-color: white;}#sk-container-id-12 div.sk-label label {font-family: monospace;font-weight: bold;display: inline-block;line-height: 1.2em;}#sk-container-id-12 div.sk-label-container {text-align: center;}#sk-container-id-12 div.sk-container {/* jupyter's `normalize.less` sets `[hidden] { display: none; }` but bootstrap.min.css set `[hidden] { display: none !important; }` so we also need the `!important` here to be able to override the default hidden behavior on the sphinx rendered scikit-learn.org. See: https://github.com/scikit-learn/scikit-learn/issues/21755 */display: inline-block !important;position: relative;}#sk-container-id-12 div.sk-text-repr-fallback {display: none;}</style><div id=\"sk-container-id-12\" class=\"sk-top-container\"><div class=\"sk-text-repr-fallback\"><pre>DecisionTreeRegressor()</pre><b>In a Jupyter environment, please rerun this cell to show the HTML representation or trust the notebook. <br />On GitHub, the HTML representation is unable to render, please try loading this page with nbviewer.org.</b></div><div class=\"sk-container\" hidden><div class=\"sk-item\"><div class=\"sk-estimator sk-toggleable\"><input class=\"sk-toggleable__control sk-hidden--visually\" id=\"sk-estimator-id-12\" type=\"checkbox\" checked><label for=\"sk-estimator-id-12\" class=\"sk-toggleable__label sk-toggleable__label-arrow\">DecisionTreeRegressor</label><div class=\"sk-toggleable__content\"><pre>DecisionTreeRegressor()</pre></div></div></div></div></div>"
      ],
      "text/plain": [
       "DecisionTreeRegressor()"
      ]
     },
     "execution_count": 149,
     "metadata": {},
     "output_type": "execute_result"
    }
   ],
   "source": [
    "#built model 4\n",
    "from sklearn.tree import DecisionTreeRegressor\n",
    "model = DecisionTreeRegressor()\n",
    "model.fit(X_train, y_train)\n"
   ]
  },
  {
   "cell_type": "code",
   "execution_count": 150,
   "metadata": {},
   "outputs": [
    {
     "data": {
      "text/plain": [
       "array([ 8505.41551562,  8505.41551562, 31924.62635285,  8505.41551562,\n",
       "        8505.41551562,  8505.41551562,  8505.41551562,  8505.41551562,\n",
       "        8505.41551562,  8505.41551562,  8505.41551562,  8505.41551562,\n",
       "        8505.41551562, 31924.62635285,  8505.41551562, 31924.62635285,\n",
       "        8505.41551562,  8505.41551562, 31924.62635285, 31924.62635285,\n",
       "       31924.62635285, 31924.62635285,  8505.41551562,  8505.41551562,\n",
       "        8505.41551562,  8505.41551562,  8505.41551562,  8505.41551562,\n",
       "        8505.41551562,  8505.41551562,  8505.41551562,  8505.41551562,\n",
       "        8505.41551562,  8505.41551562,  8505.41551562,  8505.41551562,\n",
       "        8505.41551562,  8505.41551562,  8505.41551562,  8505.41551562,\n",
       "        8505.41551562,  8505.41551562,  8505.41551562, 31924.62635285,\n",
       "        8505.41551562,  8505.41551562,  8505.41551562,  8505.41551562,\n",
       "        8505.41551562,  8505.41551562,  8505.41551562,  8505.41551562,\n",
       "       31924.62635285,  8505.41551562,  8505.41551562,  8505.41551562,\n",
       "       31924.62635285, 31924.62635285, 31924.62635285,  8505.41551562,\n",
       "        8505.41551562,  8505.41551562, 31924.62635285, 31924.62635285,\n",
       "        8505.41551562,  8505.41551562,  8505.41551562,  8505.41551562,\n",
       "        8505.41551562,  8505.41551562,  8505.41551562,  8505.41551562,\n",
       "        8505.41551562,  8505.41551562,  8505.41551562, 31924.62635285,\n",
       "        8505.41551562,  8505.41551562,  8505.41551562, 31924.62635285,\n",
       "        8505.41551562, 31924.62635285, 31924.62635285,  8505.41551562,\n",
       "        8505.41551562,  8505.41551562, 31924.62635285,  8505.41551562,\n",
       "        8505.41551562, 31924.62635285,  8505.41551562,  8505.41551562,\n",
       "        8505.41551562,  8505.41551562,  8505.41551562,  8505.41551562,\n",
       "        8505.41551562,  8505.41551562,  8505.41551562,  8505.41551562,\n",
       "        8505.41551562,  8505.41551562,  8505.41551562,  8505.41551562,\n",
       "        8505.41551562,  8505.41551562, 31924.62635285,  8505.41551562,\n",
       "        8505.41551562,  8505.41551562,  8505.41551562, 31924.62635285,\n",
       "       31924.62635285,  8505.41551562, 31924.62635285,  8505.41551562,\n",
       "        8505.41551562,  8505.41551562,  8505.41551562,  8505.41551562,\n",
       "       31924.62635285, 31924.62635285,  8505.41551562,  8505.41551562,\n",
       "        8505.41551562,  8505.41551562, 31924.62635285,  8505.41551562,\n",
       "       31924.62635285, 31924.62635285,  8505.41551562,  8505.41551562,\n",
       "        8505.41551562,  8505.41551562,  8505.41551562,  8505.41551562,\n",
       "        8505.41551562,  8505.41551562,  8505.41551562,  8505.41551562,\n",
       "        8505.41551562, 31924.62635285, 31924.62635285,  8505.41551562,\n",
       "       31924.62635285,  8505.41551562, 31924.62635285,  8505.41551562,\n",
       "        8505.41551562,  8505.41551562,  8505.41551562,  8505.41551562,\n",
       "       31924.62635285,  8505.41551562,  8505.41551562,  8505.41551562,\n",
       "       31924.62635285,  8505.41551562,  8505.41551562,  8505.41551562,\n",
       "        8505.41551562,  8505.41551562,  8505.41551562, 31924.62635285,\n",
       "        8505.41551562,  8505.41551562,  8505.41551562, 31924.62635285,\n",
       "       31924.62635285,  8505.41551562,  8505.41551562, 31924.62635285,\n",
       "        8505.41551562,  8505.41551562,  8505.41551562,  8505.41551562,\n",
       "        8505.41551562,  8505.41551562,  8505.41551562,  8505.41551562,\n",
       "        8505.41551562,  8505.41551562,  8505.41551562,  8505.41551562,\n",
       "        8505.41551562,  8505.41551562,  8505.41551562,  8505.41551562,\n",
       "        8505.41551562, 31924.62635285, 31924.62635285,  8505.41551562,\n",
       "       31924.62635285,  8505.41551562,  8505.41551562,  8505.41551562,\n",
       "       31924.62635285,  8505.41551562, 31924.62635285,  8505.41551562,\n",
       "       31924.62635285,  8505.41551562,  8505.41551562,  8505.41551562,\n",
       "        8505.41551562, 31924.62635285, 31924.62635285, 31924.62635285,\n",
       "        8505.41551562,  8505.41551562,  8505.41551562,  8505.41551562,\n",
       "        8505.41551562,  8505.41551562,  8505.41551562, 31924.62635285,\n",
       "        8505.41551562,  8505.41551562, 31924.62635285,  8505.41551562,\n",
       "       31924.62635285,  8505.41551562,  8505.41551562,  8505.41551562,\n",
       "       31924.62635285,  8505.41551562,  8505.41551562,  8505.41551562,\n",
       "        8505.41551562,  8505.41551562,  8505.41551562,  8505.41551562,\n",
       "        8505.41551562, 31924.62635285,  8505.41551562,  8505.41551562,\n",
       "        8505.41551562,  8505.41551562, 31924.62635285, 31924.62635285,\n",
       "        8505.41551562,  8505.41551562,  8505.41551562,  8505.41551562,\n",
       "        8505.41551562,  8505.41551562,  8505.41551562,  8505.41551562,\n",
       "        8505.41551562, 31924.62635285,  8505.41551562,  8505.41551562,\n",
       "        8505.41551562,  8505.41551562,  8505.41551562,  8505.41551562,\n",
       "       31924.62635285,  8505.41551562,  8505.41551562,  8505.41551562,\n",
       "       31924.62635285,  8505.41551562, 31924.62635285,  8505.41551562,\n",
       "        8505.41551562,  8505.41551562,  8505.41551562, 31924.62635285])"
      ]
     },
     "execution_count": 150,
     "metadata": {},
     "output_type": "execute_result"
    }
   ],
   "source": [
    "# Prediction result\n",
    "y_pred = model.predict(X_test)\n",
    "y_pred"
   ]
  },
  {
   "cell_type": "code",
   "execution_count": 151,
   "metadata": {},
   "outputs": [
    {
     "name": "stdout",
     "output_type": "stream",
     "text": [
      "MAPE: 0.7681023133764814\n",
      "RMSE: 7070.344661897021\n",
      "R-squared: 0.6730462472240666\n"
     ]
    }
   ],
   "source": [
    "# Model evaluation\n",
    "mape = mean_absolute_percentage_error(y_test, y_pred)\n",
    "print('MAPE: {}'.format(str(mape)))\n",
    "rmse = np.sqrt(mean_squared_error(y_test, y_pred))\n",
    "print('RMSE: {}'.format(str(rmse)))\n",
    "r2 = r2_score(y_test, y_pred)\n",
    "print('R-squared: {}'.format(str(r2)))"
   ]
  },
  {
   "cell_type": "code",
   "execution_count": null,
   "metadata": {},
   "outputs": [],
   "source": []
  }
 ],
 "metadata": {
  "kernelspec": {
   "display_name": "Python 3",
   "language": "python",
   "name": "python3"
  },
  "language_info": {
   "codemirror_mode": {
    "name": "ipython",
    "version": 3
   },
   "file_extension": ".py",
   "mimetype": "text/x-python",
   "name": "python",
   "nbconvert_exporter": "python",
   "pygments_lexer": "ipython3",
   "version": "3.11.4"
  },
  "orig_nbformat": 4
 },
 "nbformat": 4,
 "nbformat_minor": 2
}
